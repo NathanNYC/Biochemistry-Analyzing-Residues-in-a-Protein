{
 "cells": [
  {
   "cell_type": "code",
   "execution_count": 26,
   "metadata": {},
   "outputs": [
    {
     "name": "stdout",
     "output_type": "stream",
     "text": [
      "The percent of G6PD that is ionizable is: 33.4 %\n"
     ]
    }
   ],
   "source": [
    "\n",
    "#setup \n",
    "protein_name=\"G6PD\"#https://www.uniprot.org/uniprot/P11413\n",
    "ionizable_list=[]\n",
    "Ionizable_side_chains=['Y','C','K','H','R','D','E']\n",
    "\n",
    "#input the chain between quotes \n",
    "Chain=\"MAEQVALSRTQVCGILREELFQGDAFHQSDTHIFIIMGASGDLAKKKIYPTIWWLFRDGLLPENTFIVGYARSRLTVADIRKQSEPFFKATPEEKLKLEDFFARNSYVAGQYDDAASYQRLNSHMNALHLGSQANRLFYLALPPTVYEAVTKNIHESCMSQIGWNRIIVEKPFGRDLQSSDRLSNHISSLFREDQIYRIDHYLGKEMVQNLMVLRFANRIFGPIWNRDNIACVILTFKEPFGTEGRGGYFDEFGIIRDVMQNHLLQMLCLVAMEKPASTNSDDVRDEKVKVLKCISEVQANNVVLGQYVGNPDGEGEATKGYLDDPTVPRGSTTATFAAVVLYVENERWDGVPFILRCGKALNERKAEVRLQFHDVAGDIFHQQCKRNELVIRVQPNEAVYTKMMTKKPGMFFNPEESELDLTYGNRYKNVKLPDAYERLILDVFCGSQMHFVRSDELREAWRIFTPLLHQIELEKPKPIPYIYGSRGPTEADELMKRVGFQYEGTYKWVNPHKL\"\n",
    "Chain=list(Chain)\n",
    "\n",
    "#cross-check the chain against the ionizable side chains \n",
    "for residue in Chain: \n",
    "    if residue in Ionizable_side_chains:\n",
    "        ionizable_list.append(residue)\n",
    "\n",
    "#process \n",
    "length_of_ionizable=len(ionizable_list)\n",
    "length_of_chain=len(Chain)\n",
    "percent_ionizable=(length_of_ionizable/length_of_chain)*100\n",
    "percent_ionizable=round(percent_ionizable,2)\n",
    "\n",
    "#display results \n",
    "print(\"The percent of\",protein_name,\"that is ionizable is:\",percent_ionizable,\"%\")\n"
   ]
  },
  {
   "cell_type": "code",
   "execution_count": null,
   "metadata": {},
   "outputs": [],
   "source": []
  }
 ],
 "metadata": {
  "kernelspec": {
   "display_name": "Python 3 (ipykernel)",
   "language": "python",
   "name": "python3"
  },
  "language_info": {
   "codemirror_mode": {
    "name": "ipython",
    "version": 3
   },
   "file_extension": ".py",
   "mimetype": "text/x-python",
   "name": "python",
   "nbconvert_exporter": "python",
   "pygments_lexer": "ipython3",
   "version": "3.9.5"
  }
 },
 "nbformat": 4,
 "nbformat_minor": 4
}
